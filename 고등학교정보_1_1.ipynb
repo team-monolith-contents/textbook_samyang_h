{
 "cells": [
  {
   "cell_type": "markdown",
   "id": "4cd46724-6014-43a2-ab51-dca66618fe86",
   "metadata": {},
   "source": [
    "<div style=\"padding: 15px; border: 5px solid transparent; border-color: transparent; margin-bottom: 20px; border-radius: 4px; color: #3c763d; background-color: #dff0d8; border-color: #d6e9c6; font-weight: bold;\">\n",
    "    <br><br>\n",
    "    <div style=\"font-weight: bold; font-size: 40px\">정보 문화</div>\n",
    "    <div style=\"font-weight: bold; font-size: 20px\">[01] 정보과학과 우리 삶은 어떤 관련이 있을까<br>\n",
    "    [02] 정보 공유와 정보 보호는 어떻게 실천할까<br>\n",
    "    [03] 정보 보안은 왜 필요할까</div>\n",
    "    <hr style=\"width:80%;text-align:left;margin-left:0;border:0.5px solid green\">\n",
    "    <br>\n",
    "    &#x2022; 정보 사회에서 정보과학의 지식과 기술이 활용되는 분야를 탐색할 수 있다. <br>\n",
    "    &#x2022; 정보 사회에서 정보과학의 지식과 기술의 영향력을 평가할 수 있다.<br>\n",
    "    &#x2022; 정보과학 분야의 직업과 진로를 탐색할 수 있다.<br>\n",
    "    &#x2022; 정보 공유와 정보 보호에 대하여 설명할 수 있다.<br>\n",
    "    &#x2022; 정보 보호 제도 및 방법에 따라 올바르게 정보를 공유할 수 있다.<br>\n",
    "    &#x2022; 정보 보안의 필요성을 설명할 수 있다.<br>\n",
    "    &#x2022; 컴퓨팅 기기에서 정보 보안을 실천할 수 있다.\n",
    "    <br>\n",
    "</div>"
   ]
  },
  {
   "cell_type": "markdown",
   "id": "807d180e-b63b-46fa-8700-9316dc98eb55",
   "metadata": {},
   "source": [
    "<div style=\"padding: 15px; border: 5px solid transparent; border-color: transparent; margin-bottom: 20px; border-radius: 4px; color: #3c763d; border-color: #d6e9c6; font-weight: bold;\">\n",
    "<h2 style='font-weight: bold'>1. 정보과학과 우리 삶은 어떤 관련이 있을까 </h2>\n",
    "</div>"
   ]
  },
  {
   "cell_type": "markdown",
   "id": "885465ae-0d40-4394-80dd-d4409cfa2d0b",
   "metadata": {},
   "source": [
    "<h3>1. 정보 사회와 정보과학</h3>\n",
    "\n",
    "- 정보 사회 : 다양한 자료의 수집, 분석, 처리, 공유 등을 통한 정보의 생산과 활용이 모든 가치 판단의 중심이 되는 사회\n",
    "- 정보과학 : 컴퓨팅 시스템의 계산 능력을 이용하는 방법이나 지식을 연구하는 학문\n",
    "- 정보 기술(IT; Information Technology) : 일상생활의 문제를 해결하기 위해 사용되는 방법과 지식"
   ]
  },
  {
   "cell_type": "markdown",
   "id": "8c236a68-8a26-4758-bc1c-e892cd098f36",
   "metadata": {},
   "source": [
    "<table>\n",
    "<tr>\n",
    "    <th><img src=\"https://tmn-bucket-materials-all.s3.ap-northeast-2.amazonaws.com/image/textbook/syh_01_01_01.png\" width=\"800\"></th>\n",
    "    </tr>\n",
    "<tr>\n",
    "    <th> 정보과학과 정보 기술</th>\n",
    "</tr>\n",
    "</table>"
   ]
  },
  {
   "cell_type": "markdown",
   "id": "6c9c904c-b845-4bd6-8f52-401220234cb7",
   "metadata": {},
   "source": [
    "<h3>2. 정보과학 지식과 기술의 활용 분야</h3>\n",
    "\n",
    "정보과학의 지식과 기술은 개인의 삶뿐만 아니라 금융, 교육, 의료, 운송, 교통, 마케팅 등 사회 전반에 걸쳐 다양하게 활용되고 있다."
   ]
  },
  {
   "cell_type": "markdown",
   "id": "bcc9153e-9786-4919-8b23-c2f882d9c0ed",
   "metadata": {},
   "source": [
    "<table>\n",
    "<tr>\n",
    "    <th><img src=\"https://tmn-bucket-materials-all.s3.ap-northeast-2.amazonaws.com/image/textbook/syh_01_01_02.png\" width=\"800\"></th>\n",
    "    </tr>\n",
    "    <tr>\n",
    "    <th><img src=\"https://tmn-bucket-materials-all.s3.ap-northeast-2.amazonaws.com/image/textbook/syh_01_01_03.png\" width=\"800\"></th>\n",
    "    </tr>\n",
    "    <tr>\n",
    "    <th><img src=\"https://tmn-bucket-materials-all.s3.ap-northeast-2.amazonaws.com/image/textbook/syh_01_01_04.png\" width=\"800\"></th>\n",
    "    </tr>\n",
    "    <tr>\n",
    "    <th><img src=\"https://tmn-bucket-materials-all.s3.ap-northeast-2.amazonaws.com/image/textbook/syh_01_01_05.png\" width=\"800\"></th>\n",
    "    </tr>\n",
    "    <tr>\n",
    "    <th><img src=\"https://tmn-bucket-materials-all.s3.ap-northeast-2.amazonaws.com/image/textbook/syh_01_01_06.png\" width=\"800\"></th>\n",
    "    </tr>\n",
    "    <tr>\n",
    "    <th>정보과학 활용 분야</th>\n",
    "</tr>\n",
    "</table>"
   ]
  },
  {
   "cell_type": "markdown",
   "id": "0e702f27-10bf-4fe4-9b6e-5a05615e7ef2",
   "metadata": {},
   "source": [
    "<h3>3. 정보과학과 미래 직업</h3>\n",
    "\n",
    "정보과학의 발전은 사회·경제 분야의 변화뿐만 아니라 직업의 세계에도 많은 변화를 주고 있다. \n",
    "\n",
    "특히, 인공 지능과 빅 데이터, 사물 인터넷, 로봇 등 정보과학과 관련된 분야에서는 새로운 직업들이 탄생하고 있다."
   ]
  },
  {
   "cell_type": "markdown",
   "id": "3b8aef18-3ca8-4700-a877-c2d15962466c",
   "metadata": {},
   "source": [
    "<table width=600>\n",
    "    <tr>\n",
    "        <th width=20%>\n",
    "소프트웨어 개발자\n",
    "        </th>\n",
    "        <td>\n",
    "다양한 소프트웨어 개발 작업에 참여하는 사람을 말한다. 프로그램을 설계하고, 코딩하는 사람뿐만 아니라, 프로젝트 관리 업무를 수행하는 모든 사람을 소프트웨어 개발자라고 한다. 웹/앱 개발자, 임베디드 소프트웨어 개발자 등 소프트웨어 실행 환경이나 사용 언어에 따라 개발자를 나누기도 한다. 우리가 사용하는 스마트폰에서 실행하는 모든 앱 또한 소프트웨어 개발자들이 개발한 것이다.\n",
    "        </td>\n",
    "    </tr>\n",
    "    <tr>\n",
    "        <th>\n",
    "데이터 과학자\n",
    "        </th>\n",
    "        <td>\n",
    "대량의 자료를 분석하고 관리하여 사람들의 행동 패턴이나 시장 경제 상황 등을 예측하는 등의 일을 한다. 데이터 과학자는 정형화된 자료와 비정형화된 자료를 분석하여 사람들의 트렌드를 읽어 내고 이것을 금융, 마케팅, 방송, 정치 등 광범위한 분야에서 활용한다.\n",
    "        </td>\n",
    "    </tr>\n",
    "    <tr>\n",
    "        <th>\n",
    "로봇 공학자\n",
    "        </th>\n",
    "        <td>\n",
    "로봇의 구조와 동작 원리를 이해하여 다양한 산업 분야와 실생활에서 이용할 수 있는 로봇을 연구하고 개발하는 일을 담당한다. 로봇에 필요한 다양한 센서 개발, 구조 설계, 로봇을 제어하는 인공 지능 소프트웨어 개발 등에 대하여 깊은 이해가 필요하다. 로봇 공학자는 인간의 육체노동을 대신하는 물품 운반 로봇, 음식을 만드는 로봇, 야간 순찰을 대신하는 경비 로봇 등을 개발한다.\n",
    "        </td>\n",
    "    </tr>\n",
    "    <tr>\n",
    "      <th>\n",
    "네트워크 관리자\n",
    "        </th>\n",
    "        <td>\n",
    "네트워크와 관련된 각종 하드웨어 및 소프트웨어에 관한 업무를 수행한다. 또한 네트워크 시스템의 분석 및 설계와 구축에 관한 업무를 담당한다.\n",
    "        </td>\n",
    "    </tr>\n",
    "    <tr>\n",
    "        <th>\n",
    "가상 현실 전문가\n",
    "        </th>\n",
    "        <td>\n",
    "가상 현실 모델링 언어를 사용하여 가상의 3차원(3D) 시공간을 구상하고 설계하는 역할을 담당한다. 컴퓨터 그래픽을 이용하는 직업이기 때문에 미적 감각이 있으면 유리하며, 교육, 의료, 패션 등 다양한 분야에서 활동할 수 있다. 캐릭터의 움직임이나 반복되는 동작의 제어를 위해 프로그래밍 능력이 필요한 경우도 있다.\n",
    "        </td>\n",
    "    </tr>\n",
    "    <tr>\n",
    "        <th>\n",
    "사물 인터넷 개발자\n",
    "        </th>\n",
    "        <td>\n",
    "사물에 센서를 부착하여 실시간으로 데이터를 주고받는 기술을 개발하고 응용하는 역할을 수행한다. 세탁기, CCTV, 보일러, 냉장고 등의 가전 기기에서 컵, 포크, 시계 등 그 범위가 다양한 사물로 확대되고 있다.\n",
    "        </td>\n",
    "    </tr>\n",
    "    <tr><th colspan=2><font color=purple>정보과학 분야의 전문가</font></th></tr>\n",
    "    </table>"
   ]
  },
  {
   "cell_type": "markdown",
   "id": "89af247f-40e3-4217-a1b7-be5db5599ab6",
   "metadata": {},
   "source": [
    "<div style=\"padding: 15px; border: 5px solid transparent; border-color: transparent; margin-bottom: 20px; border-radius: 4px; color: #8a6d3b;  border-color: #faebcc; font-weight: bold;\">\n",
    "    <div style=\"font-weight: bold; font-size: 20px\">✏️ [활동1]</div>\n",
    "    <br>\n",
    "현재 정보과학의 지식과 기술이 활용되고 있는 분야를 조사하고, 정보과학이 우리 삶에 미치고 있는 영향력에 대하여 토론해 보자. <br>\n",
    "</div>"
   ]
  },
  {
   "cell_type": "markdown",
   "id": "80f04e1d-67de-4e79-8e37-09665f3bb53b",
   "metadata": {},
   "source": [
    "    \n",
    "<table width=800>\n",
    "    <tr>\n",
    "        <th>정보과학</th>\n",
    "        <th>지식과 기술이 활용되고 있는 분야</th>\n",
    "        <th>정보과학이 우리 삶에 미치고 있는 영향력</th>\n",
    "    </tr>\n",
    "<tr>\n",
    "    <th width=150>1. 금융 분야</th>\n",
    "    <td align=center>인터넷 뱅킹</td>\n",
    "    <td>인터넷 뱅킹이란 인터넷을 이용하여 은행 업무를 처\n",
    "리할 수 있게 도와주는 금융 정보 시스템을 말한다. 인\n",
    "터넷 뱅킹의 개발과 보급으로 사람들은 은행 방문 횟수\n",
    "가 줄고, 종이 통장이 사라지는 등의 변화가 생기고 있\n",
    "다. 이로 인해 은행에서 근무하는 사원들의 하는 일도\n",
    "많은 변화가 오고 있다.</td>\n",
    "    </tr>\n",
    "    <tr>\n",
    "        <th>2. 경제 분야</th>\n",
    "            <td align=left>👉 </td>\n",
    "            <td align=left>👉 </td>\n",
    "    </tr>\n",
    "    <tr>\n",
    " <th>3. 교육 분야</th>\n",
    "    <td align=left>👉 </td>\n",
    "    <td align=left>👉 </td>\n",
    "    </tr>\n",
    "        <tr>\n",
    "                    <th>4. 예술 분야 </th>\n",
    "    <td align=left>👉 </td>\n",
    "    <td align=left>👉 </td>\n",
    "    </tr>\n",
    "</table>\n",
    "\n",
    "\n"
   ]
  },
  {
   "cell_type": "markdown",
   "id": "d448e062-41d1-4bf4-9082-634a8f8ccfec",
   "metadata": {},
   "source": [
    "<div style=\"padding: 15px; border: 5px solid transparent; border-color: transparent; margin-bottom: 20px; border-radius: 4px; color: #3c763d; border-color: #d6e9c6; font-weight: bold;\">\n",
    "<h2 style='font-weight: bold'>2. 정보 공유와 정보 보호는 어떻게 실천할까 </h2>\n",
    "</div>"
   ]
  },
  {
   "cell_type": "markdown",
   "id": "cd7cecf8-3797-49c8-89f6-49d21cfb2e7c",
   "metadata": {
    "tags": []
   },
   "source": [
    "<h3>1. 정보 공유</h3>\n",
    "\n",
    "- 정보 공유 : 정보를 다른 사람과 나누는 것\n",
    "- 공통 관심사를 가진 사람들을 하나로 묶어 새로운 인간관계를 만든다.\n",
    "- 협업이나 새로운 아이디어를 창출하여 여러 가지 형태의 창업을 가능하게 하는 원동력이 된다.\n",
    "-  소셜 네트워킹 서비스(SNS)는 개인과 개인 간의 인간관계를 넘어 정치, 경제, 사회 등 다양한 분야에 영향을 주며 새로운 가치를 만든다."
   ]
  },
  {
   "cell_type": "markdown",
   "id": "daa9b4cc-ae53-498a-b720-62ec6222c1b2",
   "metadata": {},
   "source": [
    "<table>\n",
    "<tr>\n",
    "    <th><img src=\"https://tmn-bucket-materials-all.s3.ap-northeast-2.amazonaws.com/image/textbook/syh_01_01_07.png\" width=\"600\"></th>\n",
    "    </tr>\n",
    "<tr>\n",
    "    <th> 정보 공유의 가치</th>\n",
    "</tr>\n",
    "</table>"
   ]
  },
  {
   "cell_type": "markdown",
   "id": "691882fe-d718-451d-81e5-8483fc365023",
   "metadata": {},
   "source": [
    "<h3>2. 정보 보호와 관련 제도</h3>\n",
    "\n",
    "- 정보 보호 : 정보가 불법적으로 유출, 훼손, 파괴, 변조, 접근, 기록되는 것으로부터 보호 등을 하기 위한 모든 행위\n"
   ]
  },
  {
   "cell_type": "markdown",
   "id": "cc594e70-7a24-4004-8928-1098b941a365",
   "metadata": {},
   "source": [
    "<table>\n",
    "<tr>\n",
    "    <th><img src=\"https://tmn-bucket-materials-all.s3.ap-northeast-2.amazonaws.com/image/textbook/syh_01_01_08.png\" width=\"600\"></th>\n",
    "    </tr>\n",
    "<tr>\n",
    "    <th>  정보 보호 대상</th>\n",
    "</tr>\n",
    "</table>"
   ]
  },
  {
   "cell_type": "markdown",
   "id": "947104a2-2f80-4978-8eae-96786fa56d20",
   "metadata": {},
   "source": [
    "- 인터넷의 이용 범위가 확대되면서 개인뿐만 아니라 대기업, 공공 기관들의 부주의로 중요한 정보가 유출\n",
    "- 악의적인 목적으로 정보가 사용됨으로써 개인의 사생활이 침해\n",
    "- 유출된 정보는 해킹, 스미싱, 파밍, 명의 도용 등과 같은 또 다른 범죄 행위에 이용되어 심각한 사회 문제\n",
    "-  이러한 문제를 해결하기 위해 국가는 정보를 보호하고, 정보 침해 행위를 규제하기 위한 여러 가지 법적 장치를 마련하고 있다."
   ]
  },
  {
   "cell_type": "markdown",
   "id": "dfa28272-1cc4-4e07-98c1-8e24cda102df",
   "metadata": {},
   "source": [
    "<table>\n",
    "<tr>\n",
    "    <th><img src=\"https://tmn-bucket-materials-all.s3.ap-northeast-2.amazonaws.com/image/textbook/syh_01_01_09.png\" width=\"800\"></th>\n",
    "    </tr>\n",
    "<tr>\n",
    "    <th>우리나라의 대표적인 정보 보호 관련 법령</th>\n",
    "</tr>\n",
    "</table>"
   ]
  },
  {
   "cell_type": "markdown",
   "id": "dfa7c9fd-bbd3-4f48-95a6-cfa84b7e5875",
   "metadata": {
    "tags": []
   },
   "source": [
    "<div style=\"padding: 15px; border: 5px solid transparent; border-color: transparent; margin-bottom: 20px; border-radius: 4px; color: #3c763d; border-color: #d6e9c6; font-weight: bold;\">\n",
    "<h2 style='font-weight: bold'>3. 정보 보안은 왜 필요할까</h2>\n",
    "</div>"
   ]
  },
  {
   "cell_type": "markdown",
   "id": "bf98dccb-53c8-4998-94ab-3bd0604067c6",
   "metadata": {
    "tags": []
   },
   "source": [
    "<h3>1. 정보 보안</h3>\n",
    "\n",
    "- 정보 보안 : 허가되지 않은 사용자에 의한 불법 사용, 해킹이나 악성 프로그램에 의한 변형/복제, 인터넷 사기와 개인 정보 유출 등의 위협으로부터 중요한 정보를 안전하게 보호하는 기술"
   ]
  },
  {
   "cell_type": "markdown",
   "id": "8c7584d6-204b-46fe-bc7f-2d4f4361880f",
   "metadata": {},
   "source": [
    "<table>\n",
    "<tr>\n",
    "    <th><img src=\"https://tmn-bucket-materials-all.s3.ap-northeast-2.amazonaws.com/image/textbook/syh_01_01_10.png\" width=\"800\"></th>\n",
    "    </tr>\n",
    "<tr>\n",
    "    <th> 정보 보안의 3요소\n",
    "</th>\n",
    "</tr>\n",
    "</table>"
   ]
  },
  {
   "cell_type": "markdown",
   "id": "f30aa269-4135-46b6-9803-ace82b36dbad",
   "metadata": {
    "tags": []
   },
   "source": [
    "<h3>2. 정보 보안의 필요성</h3>\n",
    "\n",
    "인터넷의 급속한 성장뿐만 아니라 인터넷을 통한 공격 기술의 발달, 크래킹 기술의 발달, 정보 시스템의 취약점 증가, 보안 대책의 미비 등으로 보안 침해 사고가 증가하고 있다. "
   ]
  },
  {
   "cell_type": "markdown",
   "id": "2574934a-299f-4b82-9719-c8db4ed29074",
   "metadata": {},
   "source": [
    "<table>\n",
    "<tr>\n",
    "    <th><img src=\"https://tmn-bucket-materials-all.s3.ap-northeast-2.amazonaws.com/image/textbook/syh_01_01_11.png\" width=\"700\"></th>\n",
    "    </tr>\n",
    "    <tr>\n",
    "    <th><img src=\"https://tmn-bucket-materials-all.s3.ap-northeast-2.amazonaws.com/image/textbook/syh_01_01_12.png\" width=\"700\"></th>\n",
    "    </tr>\n",
    "    <tr>\n",
    "    <th><img src=\"https://tmn-bucket-materials-all.s3.ap-northeast-2.amazonaws.com/image/textbook/syh_01_01_13.png\" width=\"700\"></th>\n",
    "    </tr>\n",
    "</table>"
   ]
  },
  {
   "cell_type": "markdown",
   "id": "0087bd7d-9be9-44e9-9a49-85c81f45b86e",
   "metadata": {},
   "source": [
    "<table>\n",
    "<tr>\n",
    "    <th><img src=\"https://tmn-bucket-materials-all.s3.ap-northeast-2.amazonaws.com/image/textbook/syh_01_01_14.png\" width=\"700\"></th>\n",
    "    </tr>\n",
    "<tr>\n",
    "    <th> 정보 보안의 중요성</th>\n",
    "</tr>\n",
    "</table>"
   ]
  },
  {
   "cell_type": "markdown",
   "id": "ef05d022-1c3b-4453-9ee9-f4010c740a86",
   "metadata": {
    "tags": []
   },
   "source": [
    "<h3>3. 정보 보안 실천하기</h3>\n",
    "\n",
    "컴퓨터 바이러스나 다양한 해킹 방법으로부터 자신의 소중한 정보를 지키기 위해서는 주기적으로 비밀번호를 변경해야 하며, 백신 소프트웨어를 설치하고 관련 보안 설정을 업데이트해야 한다. 또한 방화벽을 설정하여 내부 시스템을 외부의 위협이나 공\n",
    "격으로부터 보호해야 한다."
   ]
  },
  {
   "cell_type": "markdown",
   "id": "9e986f04-8dca-4d68-bc60-5eb253c7cecd",
   "metadata": {},
   "source": [
    "<table>\n",
    "<tr>\n",
    "    <th><img src=\"https://tmn-bucket-materials-all.s3.ap-northeast-2.amazonaws.com/image/textbook/syh_01_01_15.png\" width=\"800\"></th>\n",
    "    </tr>\n",
    "<tr>\n",
    "    <th>정보 보안의 실천 방법</th>\n",
    "</tr>\n",
    "</table>"
   ]
  }
 ],
 "metadata": {
  "kernelspec": {
   "display_name": "Python 3 (ipykernel)",
   "language": "python",
   "name": "python3"
  },
  "language_info": {
   "codemirror_mode": {
    "name": "ipython",
    "version": 3
   },
   "file_extension": ".py",
   "mimetype": "text/x-python",
   "name": "python",
   "nbconvert_exporter": "python",
   "pygments_lexer": "ipython3",
   "version": "3.10.13"
  }
 },
 "nbformat": 4,
 "nbformat_minor": 5
}
