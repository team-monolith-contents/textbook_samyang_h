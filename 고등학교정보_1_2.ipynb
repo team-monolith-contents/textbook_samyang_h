{
 "cells": [
  {
   "cell_type": "markdown",
   "id": "4cd46724-6014-43a2-ab51-dca66618fe86",
   "metadata": {},
   "source": [
    "<div style=\"padding: 15px; border: 5px solid transparent; border-color: transparent; margin-bottom: 20px; border-radius: 4px; color: #3c763d; background-color: #dff0d8; border-color: #d6e9c6; font-weight: bold;\">\n",
    "    <br><br>\n",
    "    <div style=\"font-weight: bold; font-size: 40px\">정보 문화</div>\n",
    "    <div style=\"font-weight: bold; font-size: 20px\">[04] 소프트웨어 저작권은 어떻게 보호할 수 있을까<br>\n",
    "    [05] 사이버 윤리는 어떻게 실천할까</div>\n",
    "    <hr style=\"width:80%;text-align:left;margin-left:0;border:0.5px solid green\">\n",
    "    <br>\n",
    "    &#x2022; 소프트웨어 저작권 보호 제도에 대해 설명할 수 있다.<br>\n",
    "    &#x2022; 소프트웨어 저작권 보호 제도에 따라 소프트웨어를 올바르게 활용할 수 있다.<br>\n",
    "    &#x2022; 사이버 공간에서 발생하는 사회적 문제를 예방하기 위한 제도를 이해할 수 있다.<br>\n",
    "    &#x2022; 사이버 윤리를 실천할 수 있다.\n",
    "    <br>\n",
    "</div>"
   ]
  },
  {
   "cell_type": "markdown",
   "id": "807d180e-b63b-46fa-8700-9316dc98eb55",
   "metadata": {},
   "source": [
    "<div style=\"padding: 15px; border: 5px solid transparent; border-color: transparent; margin-bottom: 20px; border-radius: 4px; color: #3c763d; border-color: #d6e9c6; font-weight: bold;\">\n",
    "<h2 style='font-weight: bold'>4. 소프트웨어 저작권은 어떻게 보호할 수 있을까</h2>\n",
    "</div>"
   ]
  },
  {
   "cell_type": "markdown",
   "id": "dc2e0fb3-a6f1-48b0-bf65-7b3c68473050",
   "metadata": {},
   "source": [
    "<h3>1. 소프트웨어 저작권의 이해</h3>\n",
    "\n",
    "- 저작물 :  시, 소설, 음악, 미술, 영화, 연극, 컴퓨터 프로그램 등에서 사람의 생각이나 감정을 표현한 창작물\n",
    "- 저작권 : 저작물에 대한 창작자의 권리\n",
    "- 소프트웨어 저작권/프로그램 저작권 : 소프트웨어가 저작물과 같이 저작권에 의해 보호받을 권리"
   ]
  },
  {
   "cell_type": "markdown",
   "id": "8c236a68-8a26-4758-bc1c-e892cd098f36",
   "metadata": {},
   "source": [
    "<table>\n",
    "<tr>\n",
    "    <th><img src=\"https://tmn-bucket-materials-all.s3.ap-northeast-2.amazonaws.com/image/textbook/syh_01_02_01.png\" width=\"500\"></th>\n",
    "    </tr>\n",
    "<tr>\n",
    "    <th>저작권의 보호를 받는 저작물</th>\n",
    "</tr>\n",
    "</table>"
   ]
  },
  {
   "cell_type": "markdown",
   "id": "28870f9b-348a-4d15-9206-a356d19d3cd8",
   "metadata": {},
   "source": [
    "<table>\n",
    "<tr>\n",
    "    <th><img src=\"https://tmn-bucket-materials-all.s3.ap-northeast-2.amazonaws.com/image/textbook/syh_01_02_02.png\" width=\"600\"></th>\n",
    "    </tr>\n",
    "<tr>\n",
    "    <th>소프트웨어 저작물</th>\n",
    "</tr>\n",
    "</table>"
   ]
  },
  {
   "cell_type": "markdown",
   "id": "8eae8e6f-df04-4a5f-914e-b6c1e029313a",
   "metadata": {},
   "source": [
    "<h3>2. 소프트웨어 보호 제도</h3>\n",
    "\n",
    "소프트웨어를 사용하고자 할 경우 저작권자로부터 일정한 범위\n",
    "와 조건 안에서 소프트웨어를 사용할 수 있도록 허락을 받아야 한다. \n"
   ]
  },
  {
   "cell_type": "markdown",
   "id": "b8caa69e-a745-4986-8a4b-6528176a5a78",
   "metadata": {},
   "source": [
    "<table width=600>\n",
    "    <tr>\n",
    "        <th width=25%>\n",
    "상용 소프트웨어\n",
    "        </th>\n",
    "        <td>\n",
    "소프트웨어에 대한 이용 허락의 조건으로 일정한 금액을 지불하고\n",
    "사용권을 받는 형태의 소프트웨어\n",
    "        </td>\n",
    "    </tr>\n",
    "    <tr>\n",
    "        <th>\n",
    "공개 소프트웨어\n",
    "        </th>\n",
    "        <td>\n",
    "누구나 자유롭게 무료로 사용할 수 있는 소프트웨어\n",
    "        </td>\n",
    "    </tr>\n",
    "    <tr>\n",
    "        <th>\n",
    "오픈 소스 소프트웨어\n",
    "        </th>\n",
    "        <td>\n",
    "로봇의 구조와 동작 원리를 이해누구나 이용과 복제, 수정, 배포 등을 자유롭게 사용할 수 있는\n",
    "소프트웨어\n",
    "        </td>\n",
    "    </tr>\n",
    "    <tr><th colspan=2><font color=purple>소프트웨어 종류</font></th></tr>\n",
    "    </table>"
   ]
  },
  {
   "cell_type": "markdown",
   "id": "cfa61e0c-0bfe-4ece-83b2-a78bfff7f91d",
   "metadata": {},
   "source": [
    "<table width=600>\n",
    "    <tr>\n",
    "        <th width=25%>\n",
    "GPL 라이선스\n",
    "        </th>\n",
    "        <td>\n",
    "• 어떤 목적, 어떤 형태로든 사용할 수 있으나 변경된 프로그램을 배포할 경우 동일한 라이선스 GPL로 표시해야 한다.<br>\n",
    "• 상용 소프트웨어로 사용할 수 없다.<br>\n",
    "            예) 리눅스, 워드프레스\n",
    "        </td>\n",
    "    </tr>\n",
    "    <tr>\n",
    "        <th>\n",
    "MPL 라이선스\n",
    "        </th>\n",
    "        <td>\n",
    "• 소프트웨어를 배포할 경우 저작권 표시, 보증 책임이 없다는 표시, MPL에 의해 배포된다는 내용을 표시해야 한다.<br>\n",
    "• 상용 소프트웨어로 사용할 수 없다.\n",
    "        </td>\n",
    "    </tr>\n",
    "    <tr>\n",
    "        <th>\n",
    "Apache 라이선스\n",
    "        </th>\n",
    "        <td>\n",
    "• 소프트웨어를 배포할 경우 저작권 표시나 보증 책임이 없다는 내용을 표시해야 한다.<br>\n",
    "• 수정 프로그램에 대한 소스 코드를 공개하지 않아도 된다.<br>\n",
    "• ‘Apache’라는 이름에 대한 상표권을 침해하지 않아야 한다.<br>\n",
    "• 상용 소프트웨어로 사용 가능하다.<br>\n",
    "            예) 안드로이드, 하둡\n",
    "        </td>\n",
    "    </tr>\n",
    "    <tr><th>BSD 라이선스</th><td>• 소프트웨어를 배포할 경우 저작권 표시나 보증 책임이 없다는 내용을 표시해야 한다.<br>\n",
    "• 수정 프로그램에 대한 소스 코드를 공개하지 않아도 된다.<br>\n",
    "• 상용 소프트웨어로 사용 가능하다.</td></tr>\n",
    "    <tr><th colspan=2><font color=purple>대표적인 라이선스</font></th></tr>\n",
    "    </table>"
   ]
  },
  {
   "cell_type": "markdown",
   "id": "15a14092-e40c-4ba2-8b95-81089c294506",
   "metadata": {},
   "source": [
    "<div style=\"padding: 15px; border: 5px solid transparent; border-color: transparent; margin-bottom: 20px; border-radius: 4px; color: #3c763d; border-color: #d6e9c6; font-weight: bold;\">\n",
    "<h2 style='font-weight: bold'>5. 사이버 윤리는 어떻게 실천할까</h2>\n",
    "</div>"
   ]
  },
  {
   "cell_type": "markdown",
   "id": "6c9c904c-b845-4bd6-8f52-401220234cb7",
   "metadata": {},
   "source": [
    "<h3>1. 사이버 윤리</h3>\n",
    "\n",
    "- 윤리 : 사람이 살아가면서 마땅히 행하거나 지켜야 할 도리\n",
    "- 사이버 윤리 : 정보 사회의 구성원으로서 현실 세계와 마찬가지로 사이버 공간에서 지켜야 할 올바른 가치관과 행동 양식\n",
    "- 사이버 범죄 : 사이버 공간에서 일어나는 각종 범죄\n",
    "- 사이버 범죄는 일반적인 범죄와는 달리 고도의 정보 기술을 이용하므로 수법이 지능적이고, 빠른 시간에 불특정 다수에게 영향을 끼치기 때문에 파급 효과가 매우 크다."
   ]
  },
  {
   "cell_type": "markdown",
   "id": "7d0aa42c-0736-40be-9268-386aaa93c976",
   "metadata": {},
   "source": [
    "<table>\n",
    "<tr>\n",
    "    <th><img src=\"https://tmn-bucket-materials-all.s3.ap-northeast-2.amazonaws.com/image/textbook/syh_01_02_03.png\" width=\"700\"></th>\n",
    "    </tr>\n",
    "<tr>\n",
    "    <th>사이버 범죄의 분류</th>\n",
    "</tr>\n",
    "</table>"
   ]
  },
  {
   "cell_type": "markdown",
   "id": "610feab2-5644-4a48-87f9-f0fd3831b237",
   "metadata": {},
   "source": [
    "<table>\n",
    "<tr>\n",
    "    <th><img src=\"https://tmn-bucket-materials-all.s3.ap-northeast-2.amazonaws.com/image/textbook/syh_01_02_04.png\" width=\"600\"></th>\n",
    "    </tr>\n",
    "    <tr>\n",
    "    <th><img src=\"https://tmn-bucket-materials-all.s3.ap-northeast-2.amazonaws.com/image/textbook/syh_01_02_05.png\" width=\"600\"></th>\n",
    "    </tr>\n",
    "    <tr>\n",
    "    <th><img src=\"https://tmn-bucket-materials-all.s3.ap-northeast-2.amazonaws.com/image/textbook/syh_01_02_06.png\" width=\"600\"></th>\n",
    "    </tr>\n",
    "<tr>\n",
    "    <th>사이버 범죄 사례</th>\n",
    "</tr>\n",
    "</table>"
   ]
  },
  {
   "cell_type": "markdown",
   "id": "f52a1231-d22a-46ca-b252-7aad841421fe",
   "metadata": {},
   "source": [
    "<h3>2. 사이버 범죄의 예방과 사이버 윤리 실천</h3>\n",
    "\n",
    "- 사이버 범죄는 범죄가 일어나기 전에 예방하는 것이 중요하다. \n",
    "- 사이버 범죄는 그 수법이 새롭게 변형되어 나타나는 경우가 많으므로 최근에 어떤 사이버 범죄가 발생했었는지 사례를 알아두는 것이 좋다. "
   ]
  },
  {
   "cell_type": "markdown",
   "id": "b28d495b-c795-4bdb-97fa-8e06cd04fa64",
   "metadata": {},
   "source": [
    "<table>\n",
    "<tr>\n",
    "    <th><font color=purple>안전한 인터넷 항해 기술을 익힐 것! 아래의 내용을 지킬 것!</font></th>\n",
    "</tr>\n",
    "<tr><td>1. 인터넷에서 누군가에게 이름, 사진, 살고 있는 곳, 전화번호, 학교 등을 알려 주기 전에 부모님이나 보호자에게 항상 허락을 받는다(가족이나 다른 사람에 대한 어떤 정보도 마찬가지임).</td></tr>\n",
    "<tr><td>2. 부모님이나 보호자의 허락 없이 온라인에서 만난 사람을 실제 만나려고 해서는 안 되며. 부득이한 경우에는 공개적인 장소에서 만난다.</td></tr>\n",
    "<tr><td>3. 정보 기기의 비밀번호와 화면 패턴 등이 유출되지 않도록 주의하며, 함부로 남에게 알려 주지 않는다.</td></tr>\n",
    "    <tr><td>4. 인터넷에서 혼란스럽거나 꺼림칙한 일 또는 불쾌감을 느끼게 하는 일이 있었다면, 부모님이나 믿을 만한 어른에게 말한다.</td></tr>\n",
    "    <tr><td>5. 누군가가 불쾌감을 느끼게 말한다면 절대 응답하지 말고, 그런 일이 채팅방에서 일어났다면 그곳을 즉시 나오도록 한다.</td></tr>\n",
    "    <tr><td>6. 기분을 상하게 하는 말이나 불쾌한 그림을 보면 부모님이나 보호자에게 꼭 말한다.</td></tr>\n",
    "    <tr><td>7. 온라인에 개인과 관련된 내용을 써 넣어야 하거나 돈이나 개인 신상 정보 또는 신용카드 번호를 요구한다면, 먼저 부모님이나 보호자의 허락을 받는다.</td></tr>\n",
    "    <tr><td>8. 백신 프로그램을 설치하고, 주기적으로 업그레이드한다</td></tr>\n",
    "    <tr><td>9. 공인 인증서와 같은 중요한 정보는 이동식 디스크나 *보안 토큰 등의 안전한 저장 매체에 보관한다</td></tr>\n",
    "    <tr><td>10. 불법 콘텐츠 및 불법 사이트는 방문하지 않는다.</td></tr>\n",
    "    <tr><td>11. 보안이 설정되어 있지 않은 무선 인터넷을 함부로 사용하지 않는다.</td></tr>\n",
    "    <tr><td>12. 출처가 불명확한 파일이나 전자 우편을 열지 말고 삭제한다.</td></tr>\n",
    "   <tr>\n",
    "    <th>사이버 범죄 예방을 위한 실천 수칙</th>\n",
    "</tr>\n",
    "</table>"
   ]
  }
 ],
 "metadata": {
  "kernelspec": {
   "display_name": "Python 3 (ipykernel)",
   "language": "python",
   "name": "python3"
  },
  "language_info": {
   "codemirror_mode": {
    "name": "ipython",
    "version": 3
   },
   "file_extension": ".py",
   "mimetype": "text/x-python",
   "name": "python",
   "nbconvert_exporter": "python",
   "pygments_lexer": "ipython3",
   "version": "3.10.13"
  }
 },
 "nbformat": 4,
 "nbformat_minor": 5
}
