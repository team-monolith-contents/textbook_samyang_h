{
 "cells": [
  {
   "cell_type": "markdown",
   "id": "4cd46724-6014-43a2-ab51-dca66618fe86",
   "metadata": {},
   "source": [
    "<div style=\"padding: 15px; border: 5px solid transparent; border-color: transparent; margin-bottom: 20px; border-radius: 4px; color: #3c763d; background-color: #dff0d8; border-color: #d6e9c6; font-weight: bold;\">\n",
    "    <br><br>\n",
    "    <div style=\"font-weight: bold; font-size: 40px\">자료와 정보</div>\n",
    "    <div style=\"font-weight: bold; font-size: 20px\">[04] 수집한 자료는 어떻게 관리하고 분석할까<br>\n",
    "    [05] 분석한 결과를 잘 표현하려면 어떻게 해야 할까</div>\n",
    "    <hr style=\"width:80%;text-align:left;margin-left:0;border:0.5px solid green\">\n",
    "    <br>\n",
    "    &#x2022; 정보 관리 방법을 이해하고 소프트웨어를 활용하여 자료를 관리할 수 있다.<br>\n",
    "    &#x2022; 소프트웨어를 활용하여 수집한 자료를 분석할 수 있다.<br>\n",
    "    &#x2022; 정보의 시각화에 대하여 알 수 있다.<br>\n",
    "    &#x2022; 시각화 방법으로 자료를 다양하게 표현할 수 있다\n",
    "    <br>\n",
    "</div>"
   ]
  },
  {
   "cell_type": "markdown",
   "id": "807d180e-b63b-46fa-8700-9316dc98eb55",
   "metadata": {},
   "source": [
    "<div style=\"padding: 15px; border: 5px solid transparent; border-color: transparent; margin-bottom: 20px; border-radius: 4px; color: #3c763d; border-color: #d6e9c6; font-weight: bold;\">\n",
    "<h2 style='font-weight: bold'>4. 수집한 자료는 어떻게 관리하고 분석할까</h2>\n",
    "</div>"
   ]
  },
  {
   "cell_type": "markdown",
   "id": "b3cb1ffc-daa1-4f3c-9960-75100046f9a7",
   "metadata": {},
   "source": [
    "<h3>1. 정보 관리와 데이터베이스</h3>\n",
    "\n",
    "- 정보 관리 : 검색, 저장, 수정, 삭제, 보호 등 정보의 처리와 관련된 활동\n",
    "- 스프레드시트 : 표에 숫자나 문자 자료를 입력하고, 이를 조작하여 자료를 처리하는 응용 프로그램. 복잡한 계산이나 통계 처리 등에 주로 사용하며 단순한 정보를 관리하고 자료를 처리하는 데 유용 \n",
    "- 데이터베이스 : 기업과 같은 조직에서 여러 가지 업무에 공통으로 필요한 데이터들을 유기적으로 결합하여 저장한 집합체"
   ]
  },
  {
   "cell_type": "markdown",
   "id": "8c236a68-8a26-4758-bc1c-e892cd098f36",
   "metadata": {},
   "source": [
    "<table>\n",
    "<tr>\n",
    "    <th><img src=\"https://tmn-bucket-materials-all.s3.ap-northeast-2.amazonaws.com/image/textbook/syh_02_02_01.png\" width=\"800\"></th>\n",
    "    </tr>\n",
    "<tr>\n",
    "    <th>정보 관리</th>\n",
    "</tr>\n",
    "</table>"
   ]
  },
  {
   "cell_type": "markdown",
   "id": "6e5f990d-879e-4a4c-b30f-293335f6c7b3",
   "metadata": {},
   "source": [
    "<table>\n",
    "<tr>\n",
    "    <th><img src=\"https://tmn-bucket-materials-all.s3.ap-northeast-2.amazonaws.com/image/textbook/syh_02_02_02.png\" width=\"500\"></th>\n",
    "    </tr>\n",
    "<tr>\n",
    "    <th> 스프레드시트로 작성한 가계부 및 통계 그래프 예</th>\n",
    "</tr>\n",
    "</table>"
   ]
  },
  {
   "cell_type": "markdown",
   "id": "a79fbe45-d835-4ddc-ad2b-14f0583b67b1",
   "metadata": {},
   "source": [
    "<table>\n",
    "<tr>\n",
    "    <th><img src=\"https://tmn-bucket-materials-all.s3.ap-northeast-2.amazonaws.com/image/textbook/syh_02_02_03.png\" width=\"600\"></th>\n",
    "    </tr>\n",
    "<tr>\n",
    "    <th>실생활에서 데이터베이스를 활용한 예</th>\n",
    "</tr>\n",
    "</table>"
   ]
  },
  {
   "cell_type": "markdown",
   "id": "0dce55a8-91b4-4d7f-a37b-4e1756650734",
   "metadata": {},
   "source": [
    "<h3>2. 자료 분석</h3>\n",
    "\n",
    "- 자료 분석 : 주어진 자료를 정리하고 요약하여 자료가 가지고 있는 특성이나 의미, 가치를 알아내는 것\n",
    "- 인터넷에 저장된 방대한 양의 자료를 분석해 주는 다양한 소프트웨어가 개발되고 있다."
   ]
  },
  {
   "cell_type": "markdown",
   "id": "126df214-c411-43d1-8487-46aefd8db13a",
   "metadata": {},
   "source": [
    "<table>\n",
    "<tr>\n",
    "    <th><img src=\"https://tmn-bucket-materials-all.s3.ap-northeast-2.amazonaws.com/image/textbook/syh_02_02_04.png\" width=\"700\"></th>\n",
    "    </tr>\n",
    "<tr>\n",
    "    <th>자료 분석의 예</th>\n",
    "</tr>\n",
    "</table>"
   ]
  },
  {
   "cell_type": "markdown",
   "id": "55f8e211-007b-4e2d-a5de-e13cfa30d5c3",
   "metadata": {},
   "source": [
    "<table>\n",
    "<tr>\n",
    "    <th><img src=\"https://tmn-bucket-materials-all.s3.ap-northeast-2.amazonaws.com/image/textbook/syh_02_02_05.png\" width=\"700\"></th>\n",
    "    </tr>\n",
    "<tr>\n",
    "    <th> 인터넷에 저장된 자료를 분석해주는 소프트웨어의 예</th>\n",
    "</tr>\n",
    "</table>"
   ]
  },
  {
   "cell_type": "markdown",
   "id": "7a44de79-b938-4a2c-ab33-d562502d2dd1",
   "metadata": {
    "tags": []
   },
   "source": [
    "<div style=\"padding: 15px; border: 5px solid transparent; border-color: transparent; margin-bottom: 20px; border-radius: 4px; color: #3c763d; border-color: #d6e9c6; font-weight: bold;\">\n",
    "<h2 style='font-weight: bold'>5. 분석한 결과를 잘 표현하려면 어떻게 해야 할까</h2>\n",
    "</div>"
   ]
  },
  {
   "cell_type": "markdown",
   "id": "af5df6b0-1fed-4659-9561-7ee365005c2f",
   "metadata": {},
   "source": [
    "<h3>1. 정보의 구조화</h3>\n",
    "\n",
    "- 정보의 구조화 : 정보를 성격과 특징에 맞게 분류하고 체계적으로 조직하는 것"
   ]
  },
  {
   "cell_type": "markdown",
   "id": "b28d495b-c795-4bdb-97fa-8e06cd04fa64",
   "metadata": {},
   "source": [
    "<table>\n",
    "<tr>\n",
    "    <th><img src=\"https://tmn-bucket-materials-all.s3.ap-northeast-2.amazonaws.com/image/textbook/syh_02_02_06.png\" width=\"400\"></th>\n",
    " <th><img src=\"https://tmn-bucket-materials-all.s3.ap-northeast-2.amazonaws.com/image/textbook/syh_02_02_07.png\" width=\"400\"></th>\n",
    "    </tr>\n",
    "    <tr>\n",
    "    <th><img src=\"https://tmn-bucket-materials-all.s3.ap-northeast-2.amazonaws.com/image/textbook/syh_02_02_08.png\" width=\"400\"></th>\n",
    " <th><img src=\"https://tmn-bucket-materials-all.s3.ap-northeast-2.amazonaws.com/image/textbook/syh_02_02_09.png\" width=\"400\"></th>\n",
    "    </tr>\n",
    "<tr>\n",
    "    <th colspan=2>정보의 구조화</th>\n",
    "</tr>\n",
    "</table>"
   ]
  },
  {
   "cell_type": "markdown",
   "id": "004a834e-3947-49c1-a4e8-01a92f6625e8",
   "metadata": {},
   "source": [
    "<h3>2. 정보의 시각화</h3>\n",
    "\n",
    "- 시각화 : 숫자뿐만 아니라 다양한 형태의 정보를 사람들이 이해하기 쉽게 그래픽 요소를 활용하여 표현하는 것\n"
   ]
  },
  {
   "cell_type": "markdown",
   "id": "9573e627-93da-44cf-ae6d-90d09ded5700",
   "metadata": {},
   "source": [
    "<table>\n",
    "<tr>\n",
    "    <th><img src=\"https://tmn-bucket-materials-all.s3.ap-northeast-2.amazonaws.com/image/textbook/syh_02_02_10.png\" width=\"400\"></th>\n",
    " <th><img src=\"https://tmn-bucket-materials-all.s3.ap-northeast-2.amazonaws.com/image/textbook/syh_02_02_11.png\" width=\"400\"></th>\n",
    "    </tr>\n",
    "    <tr>\n",
    "    <th><img src=\"https://tmn-bucket-materials-all.s3.ap-northeast-2.amazonaws.com/image/textbook/syh_02_02_12.png\" width=\"400\"></th>\n",
    " <th><img src=\"https://tmn-bucket-materials-all.s3.ap-northeast-2.amazonaws.com/image/textbook/syh_02_02_13.png\" width=\"400\"></th>\n",
    "    </tr>\n",
    "        <tr>\n",
    "    <th colspan=2><img src=\"https://tmn-bucket-materials-all.s3.ap-northeast-2.amazonaws.com/image/textbook/syh_02_02_14.png\" width='800'></th>\n",
    "    </tr>\n",
    "<tr>\n",
    "    <th colspan=2>정보의 시각화</th>\n",
    "</tr>\n",
    "</table>"
   ]
  }
 ],
 "metadata": {
  "kernelspec": {
   "display_name": "Python 3 (ipykernel)",
   "language": "python",
   "name": "python3"
  },
  "language_info": {
   "codemirror_mode": {
    "name": "ipython",
    "version": 3
   },
   "file_extension": ".py",
   "mimetype": "text/x-python",
   "name": "python",
   "nbconvert_exporter": "python",
   "pygments_lexer": "ipython3",
   "version": "3.10.13"
  }
 },
 "nbformat": 4,
 "nbformat_minor": 5
}
