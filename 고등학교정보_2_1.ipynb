{
 "cells": [
  {
   "cell_type": "markdown",
   "id": "4cd46724-6014-43a2-ab51-dca66618fe86",
   "metadata": {},
   "source": [
    "<div style=\"padding: 15px; border: 5px solid transparent; border-color: transparent; margin-bottom: 20px; border-radius: 4px; color: #3c763d; background-color: #dff0d8; border-color: #d6e9c6; font-weight: bold;\">\n",
    "    <br><br>\n",
    "    <div style=\"font-weight: bold; font-size: 40px\">자료와 정보</div>\n",
    "    <div style=\"font-weight: bold; font-size: 20px\">[01] 자료 유형에 따른 부호화는 어떻게 할까<br>\n",
    "    [02] 빅 데이터에서 컴퓨팅 기술이 왜 중요할까<br>\n",
    "    [03] 필요한 자료는 어떻게 수집할까</div>\n",
    "    <hr style=\"width:80%;text-align:left;margin-left:0;border:0.5px solid green\">\n",
    "    <br>\n",
    "    &#x2022; 부호화의 개념을 이해하고 설명할 수 있다.<br>\n",
    "    &#x2022; 문자, 이미지 등을 활용할 때 목적에 맞는 디지털 변환 방법을 선택할 수 있다.<br>\n",
    "    &#x2022; 빅 데이터의 개념을 이해할 수 있다.<br>\n",
    "    &#x2022; 빅 데이터 관련 컴퓨팅 기술의 중요성에 대하여 설명할 수 있다.<br>\n",
    "    &#x2022; 필요한 자료를 수집하는 방법을 알고 목적에 맞는 자료를 수집할 수 있다.\n",
    "    <br>\n",
    "</div>"
   ]
  },
  {
   "cell_type": "markdown",
   "id": "07490b55-c2f2-4fc8-87f0-e973379f7f77",
   "metadata": {},
   "source": [
    "<div style=\"padding: 15px; border: 5px solid transparent; border-color: transparent; margin-bottom: 20px; border-radius: 4px; color: #3c763d; border-color: #d6e9c6; font-weight: bold;\">\n",
    "<h2 style='font-weight: bold'>1. 자료 유형에 따른 부호화는 어떻게 할까</h2>\n",
    "</div>"
   ]
  },
  {
   "cell_type": "markdown",
   "id": "af27730f-755b-4c0e-a0ea-9941255f65ff",
   "metadata": {},
   "source": [
    "<h3>1. 자료의 디지털 표현과 부호화</h3>\n",
    "\n",
    "- 디지털 표현 : 숫자, 문자, 이미지, 소리 등과 같은 다양한 자료를 0과 1의 숫자 형태로 표시하는 것\n",
    "- 부호화(encoding) : 자료를 컴퓨터에서 원활하게 활용하기 위해서는 컴퓨터가 이해할 수 있는 형식으로 변환하는 작업"
   ]
  },
  {
   "cell_type": "markdown",
   "id": "8c236a68-8a26-4758-bc1c-e892cd098f36",
   "metadata": {},
   "source": [
    "<table>\n",
    "<tr>\n",
    "    <th><img src=\"https://tmn-bucket-materials-all.s3.ap-northeast-2.amazonaws.com/image/textbook/syh_02_01_01.png\" width=\"800\"></th>\n",
    "    </tr>\n",
    "<tr>\n",
    "    <th>정보 인식을 위한 서로 다른 형태의 명함</th>\n",
    "</tr>\n",
    "</table>"
   ]
  },
  {
   "cell_type": "markdown",
   "id": "680b34e3-cd4b-4820-9fd4-3803695a17f2",
   "metadata": {},
   "source": [
    "<h3>2. 문자의 부호화</h3>\n",
    "\n",
    "- 문자마다 미리 정해 놓은 코드 값으로 변환하여 부호화한다. \n",
    "- 아스키코드 :  7비트로 구성된 코드. 영문 대소문자, 숫자 0~9, 특수 문자, 기호 등 총 128(27)개의 서로 다른 문자들을 표현\n",
    "- 유니코드 : 문자 하나를 표현할 때 16비트를 이용하여 총 65,536(216)개의 서로 다른 문자를 표현"
   ]
  },
  {
   "cell_type": "markdown",
   "id": "18ddbcdd-9058-4763-83bc-0366992448dd",
   "metadata": {},
   "source": [
    "<table>\n",
    "<tr>\n",
    "    <th><img src=\"https://tmn-bucket-materials-all.s3.ap-northeast-2.amazonaws.com/image/textbook/syh_02_01_02.png\" width=\"800\"></th>\n",
    "    </tr>\n",
    "<tr>\n",
    "    <th>아스키코드 표</th>\n",
    "</tr>\n",
    "</table>"
   ]
  },
  {
   "cell_type": "markdown",
   "id": "4d723150-3232-4cc6-bdd3-581249a59948",
   "metadata": {},
   "source": [
    "<table>\n",
    "<tr>\n",
    "    <th><img src=\"https://tmn-bucket-materials-all.s3.ap-northeast-2.amazonaws.com/image/textbook/syh_02_01_03.png\" width=\"800\"></th>\n",
    "    </tr>\n",
    "<tr>\n",
    "    <th> 유니코드 표</th>\n",
    "</tr>\n",
    "</table>"
   ]
  },
  {
   "cell_type": "markdown",
   "id": "4eae54d0-a48c-4775-80d6-e36a97f00b52",
   "metadata": {},
   "source": [
    "<h3>3. 이미지의 부호화</h3>\n",
    "\n",
    "- 색을 표현하는 방법 : 한 픽셀을 몇 비트로 구성하느냐에 따라 표현할 수 있는 색의 수가 달라진다.\n",
    "- 픽셀과 해상도 : 이미지의 크기가 같은 경우, 픽셀 수가 많을수록 해상도가 높아져서 이미지를 더욱 선명하게 표현할 수 있다."
   ]
  },
  {
   "cell_type": "markdown",
   "id": "d53968cf-4858-4519-bc77-662b2c090911",
   "metadata": {},
   "source": [
    "<table>\n",
    "<tr>\n",
    "    <th><img src=\"https://tmn-bucket-materials-all.s3.ap-northeast-2.amazonaws.com/image/textbook/syh_02_01_04.png\" width=\"600\"></th>\n",
    "    </tr>\n",
    "<tr>\n",
    "    <th>한 픽셀의 색을 표현하는 데 사용되는 비트 수에 따라 1비트는 2가지, 2비트는 4가지, 4비트는 16가지의 색상을\n",
    "표현할 수 있다.\n",
    "</th>\n",
    "</tr>\n",
    "</table>"
   ]
  },
  {
   "cell_type": "markdown",
   "id": "e8dab40a-a360-425e-99b6-d651d4134386",
   "metadata": {},
   "source": [
    "<table>\n",
    "<tr>\n",
    "    <th><img src=\"https://tmn-bucket-materials-all.s3.ap-northeast-2.amazonaws.com/image/textbook/syh_02_01_05.png\" width=\"600\"></th>\n",
    "    </tr>\n",
    "<tr>\n",
    "    <th>이미지의 해상도</th>\n",
    "</tr>\n",
    "</table>"
   ]
  },
  {
   "cell_type": "markdown",
   "id": "d17af7c4-a6c1-41f2-bd2c-0c38f08d6e20",
   "metadata": {
    "tags": []
   },
   "source": [
    "<div style=\"padding: 15px; border: 5px solid transparent; border-color: transparent; margin-bottom: 20px; border-radius: 4px; color: #3c763d; border-color: #d6e9c6; font-weight: bold;\">\n",
    "<h2 style='font-weight: bold'>2. 빅 데이터에서 컴퓨팅 기술이 왜 중요할까</h2>\n",
    "</div>"
   ]
  },
  {
   "cell_type": "markdown",
   "id": "b90b3787-654e-4691-89b8-e91af6785c2f",
   "metadata": {},
   "source": [
    "<h3>1. 빅 데이터와 컴퓨팅 기술</h3>\n",
    "\n",
    "- 빅 데이터 : ‘빅(big)’과 ‘데이터(data)’의 합성어. 인터넷과 정보 기술이 발전하면서 디지털 환경에서 생성되는 방대한 규모의 데이터 집합체"
   ]
  },
  {
   "cell_type": "markdown",
   "id": "f9b70d2b-f90d-44c8-8e5f-03c54cd88f31",
   "metadata": {},
   "source": [
    "<table>\n",
    "<tr>\n",
    "    <th><img src=\"https://tmn-bucket-materials-all.s3.ap-northeast-2.amazonaws.com/image/textbook/syh_02_01_06.png\" width=\"800\"></th>\n",
    "    </tr>\n",
    "<tr>\n",
    "    <th>빅 데이터</th>\n",
    "</tr>\n",
    "</table>"
   ]
  },
  {
   "cell_type": "markdown",
   "id": "72f5e1c1-60f0-4ba3-b70c-bbc0700d74cc",
   "metadata": {},
   "source": [
    "<table>\n",
    "<tr>\n",
    "    <th><img src=\"https://tmn-bucket-materials-all.s3.ap-northeast-2.amazonaws.com/image/textbook/syh_02_01_07.png\" width=\"700\"></th>\n",
    "    </tr>\n",
    "<tr>\n",
    "    <th>빅 데이터의 속성</th>\n",
    "</tr>\n",
    "</table>"
   ]
  },
  {
   "cell_type": "markdown",
   "id": "d00d1181-573f-42be-94af-95c6ede5518c",
   "metadata": {},
   "source": [
    "<h3>2. 빅 데이터의 활용과 사회 변화</h3>\n",
    "\n",
    "자연 언어 텍스트, 사진, 음악, 동영상, 위치 정보 등 정형화되지 않은 데이터까지 분석과 활용의 대상이 되면서 데이터를 효과적으로 활용하고 있다. "
   ]
  },
  {
   "cell_type": "markdown",
   "id": "6b31f628-a789-4e7c-ae41-b5cb3483f8d6",
   "metadata": {},
   "source": [
    "<table>\n",
    "<tr>\n",
    "    <th><img src=\"https://tmn-bucket-materials-all.s3.ap-northeast-2.amazonaws.com/image/textbook/syh_02_01_08.png\" width=\"800\"></th>\n",
    "    </tr>\n",
    "    <tr>\n",
    "    <th><img src=\"https://tmn-bucket-materials-all.s3.ap-northeast-2.amazonaws.com/image/textbook/syh_02_01_09.png\" width=\"800\"></th>\n",
    "    </tr>\n",
    "        <tr>\n",
    "    <th><img src=\"https://tmn-bucket-materials-all.s3.ap-northeast-2.amazonaws.com/image/textbook/syh_02_01_10.png\" width=\"800\"></th>\n",
    "    </tr>\n",
    "        <tr>\n",
    "    <th><img src=\"https://tmn-bucket-materials-all.s3.ap-northeast-2.amazonaws.com/image/textbook/syh_02_01_11.png\" width=\"800\"></th>\n",
    "    </tr>\n",
    "        <tr>\n",
    "    <th><img src=\"https://tmn-bucket-materials-all.s3.ap-northeast-2.amazonaws.com/image/textbook/syh_02_01_12.png\" width=\"800\"></th>\n",
    "    </tr>\n",
    "<tr>\n",
    "    <th>빅 데이터 활용 사례</th>\n",
    "</tr>\n",
    "</table>"
   ]
  },
  {
   "cell_type": "markdown",
   "id": "9d163f5c-8336-429e-9910-0ec0d36bc6f6",
   "metadata": {},
   "source": [
    "<div style=\"padding: 15px; border: 5px solid transparent; border-color: transparent; margin-bottom: 20px; border-radius: 4px; color: #3c763d; border-color: #d6e9c6; font-weight: bold;\">\n",
    "<h2 style='font-weight: bold'>3. 필요한 자료는 어떻게 수집할까</h2>\n",
    "</div>"
   ]
  },
  {
   "cell_type": "markdown",
   "id": "25f93e84-52dd-4c1d-8d4a-ba8edea95018",
   "metadata": {},
   "source": [
    "<h3>1. 자료 수집 계획</h3>\n",
    "\n",
    "목적에 맞는 자료 수집 작업을 어떻게 할 것인지를 생각해 보고 자료 수집 대상, 수집할 자료의 종류 등에 대하여 미리 계획을 세워야 정확한 자료를 수집할 수 있다. "
   ]
  },
  {
   "cell_type": "markdown",
   "id": "6602c788-5b2d-4ad7-8069-0b5ebd5bba24",
   "metadata": {},
   "source": [
    "<table>\n",
    "<tr>\n",
    "    <th><img src=\"https://tmn-bucket-materials-all.s3.ap-northeast-2.amazonaws.com/image/textbook/syh_02_01_13.png\" width=\"400\"></th>\n",
    "    </tr>\n",
    "<tr>\n",
    "    <th>자료 수집 계획을 세울 때 고려할 점</th>\n",
    "</tr>\n",
    "</table>"
   ]
  },
  {
   "cell_type": "markdown",
   "id": "20852023-740b-4643-8f4c-9790d8ac6b71",
   "metadata": {},
   "source": [
    "<h3>2. 자료 수집 방법</h3>\n",
    "\n",
    "자료 수집의 목적과 수집할 자료의 종류 및 특성을 명확하게 한 후에는 다양한 방법을 활용하여 자료를 수집한다. \n",
    "\n",
    "정보 기술의 발달로 인터넷을 활용한 자료 수집 방법이 보편화되고 있다. \n"
   ]
  },
  {
   "cell_type": "markdown",
   "id": "61adf6f9-cd6e-4eca-86e8-ad5c5bebfbc9",
   "metadata": {},
   "source": [
    "<table>\n",
    "<tr>\n",
    "    <th><img src=\"https://tmn-bucket-materials-all.s3.ap-northeast-2.amazonaws.com/image/textbook/syh_02_01_14.png\" width=\"800\"></th>\n",
    "    </tr>\n",
    "<tr>\n",
    "    <th>자료 수집 방법의 예</th>\n",
    "</tr>\n",
    "</table>"
   ]
  },
  {
   "cell_type": "markdown",
   "id": "f44f1061-a3a1-45ff-89e7-0193d737cc35",
   "metadata": {},
   "source": [
    "<table>\n",
    "<tr>\n",
    "    <th><img src=\"https://tmn-bucket-materials-all.s3.ap-northeast-2.amazonaws.com/image/textbook/syh_02_01_15.png\" width=\"800\"></th>\n",
    "    </tr>\n",
    "<tr>\n",
    "    <th>컴퓨팅 기기를 이용한 자료 수집 방법의 예</th>\n",
    "</tr>\n",
    "</table>"
   ]
  },
  {
   "cell_type": "markdown",
   "id": "e602e68c-7ff2-4b93-8735-54dcfb526fcb",
   "metadata": {},
   "source": [
    "<table>\n",
    "<tr>\n",
    "    <th><img src=\"https://tmn-bucket-materials-all.s3.ap-northeast-2.amazonaws.com/image/textbook/syh_02_01_16.png\" width=\"900\"></th>\n",
    "    </tr>\n",
    "<tr>\n",
    "    <th> 주소 자동 수집 예</th>\n",
    "</tr>\n",
    "</table>"
   ]
  }
 ],
 "metadata": {
  "kernelspec": {
   "display_name": "Python 3 (ipykernel)",
   "language": "python",
   "name": "python3"
  },
  "language_info": {
   "codemirror_mode": {
    "name": "ipython",
    "version": 3
   },
   "file_extension": ".py",
   "mimetype": "text/x-python",
   "name": "python",
   "nbconvert_exporter": "python",
   "pygments_lexer": "ipython3",
   "version": "3.10.13"
  }
 },
 "nbformat": 4,
 "nbformat_minor": 5
}
